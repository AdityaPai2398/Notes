{
 "cells": [
  {
   "cell_type": "markdown",
   "metadata": {},
   "source": [
    "## Create a rank 1 numpy array"
   ]
  },
  {
   "cell_type": "code",
   "execution_count": 1,
   "metadata": {},
   "outputs": [
    {
     "name": "stdout",
     "output_type": "stream",
     "text": [
      "<class 'numpy.ndarray'>\n"
     ]
    }
   ],
   "source": [
    "import numpy as np\n",
    "\n",
    "arr = np.array([2, 12, 565])\n",
    "\n",
    "print(type(arr))"
   ]
  },
  {
   "cell_type": "markdown",
   "metadata": {},
   "source": [
    "**Tells the shape(dimension with number of elements in each dimension)**"
   ]
  },
  {
   "cell_type": "code",
   "execution_count": 4,
   "metadata": {},
   "outputs": [
    {
     "name": "stdout",
     "output_type": "stream",
     "text": [
      "(3,)\n"
     ]
    }
   ],
   "source": [
    "print(arr.shape)"
   ]
  },
  {
   "cell_type": "markdown",
   "metadata": {},
   "source": [
    "**Mutability of nd arrays**"
   ]
  },
  {
   "cell_type": "code",
   "execution_count": 6,
   "metadata": {},
   "outputs": [
    {
     "name": "stdout",
     "output_type": "stream",
     "text": [
      "1555\n"
     ]
    }
   ],
   "source": [
    "arr[1] = 1555\n",
    "print(arr[1])"
   ]
  },
  {
   "cell_type": "markdown",
   "metadata": {},
   "source": [
    "## Create a rank 2 numpy array"
   ]
  },
  {
   "cell_type": "code",
   "execution_count": 14,
   "metadata": {},
   "outputs": [
    {
     "name": "stdout",
     "output_type": "stream",
     "text": [
      "(2, 4)\n"
     ]
    }
   ],
   "source": [
    "import numpy as np\n",
    "\n",
    "arr2 = np.array([[2, 12, 565, 4545], [89, 78, 5465, 4554]])\n",
    "print(arr2.shape)"
   ]
  },
  {
   "cell_type": "markdown",
   "metadata": {},
   "source": [
    "**Aceesing elements**"
   ]
  },
  {
   "cell_type": "code",
   "execution_count": 15,
   "metadata": {},
   "outputs": [
    {
     "data": {
      "text/plain": [
       "2"
      ]
     },
     "execution_count": 15,
     "metadata": {},
     "output_type": "execute_result"
    }
   ],
   "source": [
    "arr2[0,0]"
   ]
  },
  {
   "cell_type": "code",
   "execution_count": 16,
   "metadata": {},
   "outputs": [
    {
     "data": {
      "text/plain": [
       "4554"
      ]
     },
     "execution_count": 16,
     "metadata": {},
     "output_type": "execute_result"
    }
   ],
   "source": [
    "arr2[1,3]"
   ]
  },
  {
   "cell_type": "markdown",
   "metadata": {},
   "source": [
    "## Creating an array having the same value in each cell"
   ]
  },
  {
   "cell_type": "code",
   "execution_count": 17,
   "metadata": {
    "collapsed": true
   },
   "outputs": [],
   "source": [
    "arr3 = np.full((3,3), 15)"
   ]
  },
  {
   "cell_type": "code",
   "execution_count": 18,
   "metadata": {},
   "outputs": [
    {
     "name": "stdout",
     "output_type": "stream",
     "text": [
      "[[15 15 15]\n",
      " [15 15 15]\n",
      " [15 15 15]]\n"
     ]
    }
   ],
   "source": [
    "print(arr3)"
   ]
  },
  {
   "cell_type": "markdown",
   "metadata": {},
   "source": [
    "**All ones**"
   ]
  },
  {
   "cell_type": "code",
   "execution_count": 20,
   "metadata": {},
   "outputs": [
    {
     "name": "stdout",
     "output_type": "stream",
     "text": [
      "[[ 1.  1.  1.  1.  1.]\n",
      " [ 1.  1.  1.  1.  1.]\n",
      " [ 1.  1.  1.  1.  1.]\n",
      " [ 1.  1.  1.  1.  1.]\n",
      " [ 1.  1.  1.  1.  1.]]\n"
     ]
    }
   ],
   "source": [
    "arr4 = np.ones((5,5))\n",
    "print(arr4)"
   ]
  },
  {
   "cell_type": "markdown",
   "metadata": {},
   "source": [
    "**All diagonal elements one**"
   ]
  },
  {
   "cell_type": "code",
   "execution_count": 24,
   "metadata": {},
   "outputs": [
    {
     "name": "stdout",
     "output_type": "stream",
     "text": [
      "[[ 1.  0.  0.]\n",
      " [ 0.  1.  0.]\n",
      " [ 0.  0.  1.]]\n"
     ]
    }
   ],
   "source": [
    "arr5 = np.eye(3,3)\n",
    "print(arr5)"
   ]
  },
  {
   "cell_type": "markdown",
   "metadata": {},
   "source": [
    "## Creating random arrays"
   ]
  },
  {
   "cell_type": "code",
   "execution_count": 11,
   "metadata": {},
   "outputs": [
    {
     "name": "stdout",
     "output_type": "stream",
     "text": [
      "[[ 0.80031815  0.8623988   0.73894544]\n",
      " [ 0.30636549  0.71993101  0.84156695]\n",
      " [ 0.23633421  0.91464201  0.56505976]]\n"
     ]
    }
   ],
   "source": [
    "rand = np.random.random((3,3))\n",
    "print(rand)"
   ]
  },
  {
   "cell_type": "markdown",
   "metadata": {},
   "source": [
    "## Slicing nd arrays"
   ]
  },
  {
   "cell_type": "code",
   "execution_count": 28,
   "metadata": {},
   "outputs": [
    {
     "name": "stdout",
     "output_type": "stream",
     "text": [
      "[[ 545   78]\n",
      " [5405  708]]\n",
      "[[  45  545   78  999]\n",
      " [ 405 5405  708  999]\n",
      " [   5  545    8   99]]\n"
     ]
    }
   ],
   "source": [
    "ar = np.array([[45, 545, 78, 999], [405, 5405, 708, 999], [5, 545, 8, 99]])\n",
    "sliced = ar[:2, 1:3]\n",
    "\n",
    "print(sliced)\n",
    "print(ar)"
   ]
  },
  {
   "cell_type": "markdown",
   "metadata": {},
   "source": [
    "**But the sliced array is not a new array nut rather a reference to the ar array**"
   ]
  },
  {
   "cell_type": "code",
   "execution_count": 29,
   "metadata": {},
   "outputs": [
    {
     "name": "stdout",
     "output_type": "stream",
     "text": [
      "[[ 545   78]\n",
      " [1500  708]]\n",
      "[[  45  545   78  999]\n",
      " [ 405 1500  708  999]\n",
      " [   5  545    8   99]]\n"
     ]
    }
   ],
   "source": [
    "sliced[1,0] = 1500 \n",
    "\n",
    "print(sliced)\n",
    "print(ar)"
   ]
  },
  {
   "cell_type": "markdown",
   "metadata": {},
   "source": [
    "**The corresponding element in ar also changes. To avoid this we can make a copy of the original array and then slice it out by:**"
   ]
  },
  {
   "cell_type": "code",
   "execution_count": 30,
   "metadata": {},
   "outputs": [
    {
     "name": "stdout",
     "output_type": "stream",
     "text": [
      "[[ 545   78]\n",
      " [1500  708]]\n",
      "[[  45  545   78  999]\n",
      " [ 405 5405  708  999]\n",
      " [   5  545    8   99]]\n"
     ]
    }
   ],
   "source": [
    "ar = np.array([[45, 545, 78, 999], [405, 5405, 708, 999], [5, 545, 8, 99]])\n",
    "sliced = np.array(ar[:2, 1:3])\n",
    "sliced[1,0] = 1500 \n",
    "\n",
    "print(sliced)\n",
    "print(ar)"
   ]
  },
  {
   "cell_type": "markdown",
   "metadata": {},
   "source": [
    "## Boolean Indexing\n",
    "\n",
    "**Using an array of indicies to create an array of boolean indicies**"
   ]
  },
  {
   "cell_type": "code",
   "execution_count": 31,
   "metadata": {},
   "outputs": [
    {
     "data": {
      "text/plain": [
       "array([[11, 12, 13],\n",
       "       [21, 22, 23],\n",
       "       [31, 32, 33]])"
      ]
     },
     "execution_count": 31,
     "metadata": {},
     "output_type": "execute_result"
    }
   ],
   "source": [
    "a = np.array([[11, 12, 13], [21, 22, 23], [31, 32, 33]])\n",
    "a"
   ]
  },
  {
   "cell_type": "code",
   "execution_count": 32,
   "metadata": {},
   "outputs": [
    {
     "data": {
      "text/plain": [
       "array([[False, False, False],\n",
       "       [ True,  True,  True],\n",
       "       [ True,  True,  True]], dtype=bool)"
      ]
     },
     "execution_count": 32,
     "metadata": {},
     "output_type": "execute_result"
    }
   ],
   "source": [
    "# creating a boolen array\n",
    "filter = (a>15)\n",
    "filter"
   ]
  },
  {
   "cell_type": "markdown",
   "metadata": {},
   "source": [
    "**Now we can pull out the values matching the condition >15 by using the values of the `filter` array and indicies in the original array**"
   ]
  },
  {
   "cell_type": "code",
   "execution_count": 33,
   "metadata": {},
   "outputs": [
    {
     "name": "stdout",
     "output_type": "stream",
     "text": [
      "[21 22 23 31 32 33]\n"
     ]
    }
   ],
   "source": [
    "print(a[filter])"
   ]
  },
  {
   "cell_type": "markdown",
   "metadata": {
    "collapsed": true
   },
   "source": [
    "## Data Types and Operations"
   ]
  },
  {
   "cell_type": "code",
   "execution_count": 7,
   "metadata": {},
   "outputs": [
    {
     "name": "stdout",
     "output_type": "stream",
     "text": [
      "[11 88] int64\n",
      "\n",
      "[ 19.  18.] float64\n"
     ]
    }
   ],
   "source": [
    "import numpy as np\n",
    "\n",
    "# typecasting values in an ndarray using explicit declaration of the type of array\n",
    "d1 = np.array([11.5, 88.66], dtype=np.int64)\n",
    "d2 = np.array([19, 18], dtype=np.float64)\n",
    "\n",
    "print(d1, d1.dtype)\n",
    "print()\n",
    "print(d2, d2.dtype)"
   ]
  },
  {
   "cell_type": "markdown",
   "metadata": {},
   "source": [
    "### Arithematic Operations\n",
    "**Adding**"
   ]
  },
  {
   "cell_type": "code",
   "execution_count": 8,
   "metadata": {},
   "outputs": [
    {
     "name": "stdout",
     "output_type": "stream",
     "text": [
      "[  30.  106.]\n",
      "[  30.  106.]\n"
     ]
    }
   ],
   "source": [
    "print(d1+d2)\n",
    "print(np.add(d1, d2))"
   ]
  },
  {
   "cell_type": "markdown",
   "metadata": {},
   "source": [
    "**Other operations**"
   ]
  },
  {
   "cell_type": "code",
   "execution_count": 9,
   "metadata": {},
   "outputs": [
    {
     "name": "stdout",
     "output_type": "stream",
     "text": [
      "[ -8.  70.]\n",
      "\n",
      "[  209.  1584.]\n",
      "\n",
      "[ 0.57894737  4.88888889]\n",
      "\n",
      "[ 3.31662479  9.38083152]\n",
      "\n",
      "[  5.98741417e+04   1.65163625e+38]\n"
     ]
    }
   ],
   "source": [
    "print(np.subtract(d1, d2))\n",
    "print()\n",
    "print(np.multiply(d1, d2))\n",
    "print()\n",
    "print(np.divide(d1, d2))\n",
    "print()\n",
    "print(np.sqrt(d1))\n",
    "print()\n",
    "print(np.exp(d1))"
   ]
  },
  {
   "cell_type": "markdown",
   "metadata": {},
   "source": [
    "### More Operations"
   ]
  },
  {
   "cell_type": "code",
   "execution_count": 12,
   "metadata": {},
   "outputs": [
    {
     "name": "stdout",
     "output_type": "stream",
     "text": [
      "[[ 11.01410396  10.87852974   9.56085539   8.44325312   8.97229598]\n",
      " [ 11.65348828   9.78689151   9.81030263   9.67298521   9.85730206]]\n"
     ]
    }
   ],
   "source": [
    "# random 2*4 matrix\n",
    "arr = 10 + np.random.randn(2,5)\n",
    "print(arr)"
   ]
  },
  {
   "cell_type": "code",
   "execution_count": 16,
   "metadata": {},
   "outputs": [
    {
     "name": "stdout",
     "output_type": "stream",
     "text": [
      "9.96500078753\n",
      "\n",
      "[  9.77380764  10.15619394]\n",
      "\n",
      "[ 11.33379612  10.33271062   9.68557901   9.05811916   9.41479902]\n",
      "\n"
     ]
    }
   ],
   "source": [
    "# mean for the whole matrix\n",
    "print(arr.mean())\n",
    "print()\n",
    "\n",
    "# mean for each row\n",
    "print(arr.mean(axis=1))\n",
    "print()\n",
    "\n",
    "# mean for each column\n",
    "print(arr.mean(axis=0))\n",
    "print()"
   ]
  },
  {
   "cell_type": "code",
   "execution_count": 17,
   "metadata": {},
   "outputs": [
    {
     "name": "stdout",
     "output_type": "stream",
     "text": [
      "99.6500078753\n"
     ]
    }
   ],
   "source": [
    "# sum all elements\n",
    "print(arr.sum())"
   ]
  },
  {
   "cell_type": "markdown",
   "metadata": {},
   "source": [
    "### Median"
   ]
  },
  {
   "cell_type": "code",
   "execution_count": 19,
   "metadata": {},
   "outputs": [
    {
     "name": "stdout",
     "output_type": "stream",
     "text": [
      "[ 9.56085539  9.81030263]\n",
      "[ 11.33379612  10.33271062   9.68557901   9.05811916   9.41479902]\n"
     ]
    }
   ],
   "source": [
    "# median for each row\n",
    "print(np.median(arr, axis=1))\n",
    "\n",
    "# median for each column\n",
    "print(np.median(arr, axis=0))"
   ]
  },
  {
   "cell_type": "markdown",
   "metadata": {},
   "source": [
    "## Sorting"
   ]
  },
  {
   "cell_type": "code",
   "execution_count": 21,
   "metadata": {},
   "outputs": [
    {
     "name": "stdout",
     "output_type": "stream",
     "text": [
      "[ 0.05913495 -0.1977948  -0.32337449 -0.47053862  1.35267288  0.49340187\n",
      "  0.34466779 -0.68307758  0.21519334 -1.31739077]\n",
      "[-1.31739077 -0.68307758 -0.47053862 -0.32337449 -0.1977948   0.05913495\n",
      "  0.21519334  0.34466779  0.49340187  1.35267288]\n"
     ]
    }
   ],
   "source": [
    "unsorted = np.random.randn(10)\n",
    "print(unsorted)\n",
    "\n",
    "sorted = np.array(unsorted)\n",
    "sorted.sort()\n",
    "\n",
    "print(sorted)"
   ]
  },
  {
   "cell_type": "code",
   "execution_count": 23,
   "metadata": {},
   "outputs": [
    {
     "name": "stdout",
     "output_type": "stream",
     "text": [
      "[ 1  2  4  8  9 10]\n"
     ]
    }
   ],
   "source": [
    "# To find out unique values in an array\n",
    "a = np.array([1, 2, 2, 4, 8, 8, 9, 10])\n",
    "print(np.unique(a))"
   ]
  },
  {
   "cell_type": "markdown",
   "metadata": {},
   "source": [
    "## Set Operations"
   ]
  },
  {
   "cell_type": "code",
   "execution_count": 29,
   "metadata": {},
   "outputs": [
    {
     "name": "stdout",
     "output_type": "stream",
     "text": [
      "[  1   2   4   6   7   8  77  99 101]\n",
      "[ 1  2  4  6 99]\n",
      "[8]\n",
      "[ True  True  True  True  True False  True]\n"
     ]
    }
   ],
   "source": [
    "s1 = np.array([1, 2, 6, 2, 4, 8, 99])\n",
    "s2 = np.array([1, 2, 6, 4, 99, 101, 7, 77])\n",
    "\n",
    "# union\n",
    "print(np.union1d(s1, s2))\n",
    "\n",
    "# intersection\n",
    "print(np.intersect1d(s1, s2))\n",
    "\n",
    "# elements in s1 not present in s2\n",
    "print(np.setdiff1d(s1, s2))\n",
    "\n",
    "# which elements in s1 present in s2\n",
    "print(np.in1d(s1, s2))"
   ]
  },
  {
   "cell_type": "markdown",
   "metadata": {},
   "source": [
    "## Broadcasting"
   ]
  },
  {
   "cell_type": "code",
   "execution_count": 39,
   "metadata": {},
   "outputs": [
    {
     "name": "stdout",
     "output_type": "stream",
     "text": [
      "[[ 0.  0.  0.]\n",
      " [ 0.  0.  0.]\n",
      " [ 0.  0.  0.]\n",
      " [ 0.  0.  0.]]\n",
      "\n",
      "[[ 1.  2.  9.]\n",
      " [ 1.  2.  9.]\n",
      " [ 1.  2.  9.]\n",
      " [ 1.  2.  9.]]\n",
      "\n",
      "[[  1.   1.   1.]\n",
      " [  2.   2.   2.]\n",
      " [  9.   9.   9.]\n",
      " [ 10.  10.  10.]]\n"
     ]
    }
   ],
   "source": [
    "import numpy as np\n",
    "\n",
    "start = np.zeros((4, 3))\n",
    "print(start)\n",
    "add_rows = np.array([1, 2, 9])\n",
    "print()\n",
    "\n",
    "s = start + add_rows\n",
    "print(s)\n",
    "\n",
    "add_cols = np.array([[1, 2, 9, 10]])\n",
    "add_cols = add_cols.T\n",
    "print()\n",
    "\n",
    "p = start + add_cols\n",
    "print(p)"
   ]
  },
  {
   "cell_type": "code",
   "execution_count": 40,
   "metadata": {},
   "outputs": [
    {
     "name": "stdout",
     "output_type": "stream",
     "text": [
      "[[ 1.  1.  1.]\n",
      " [ 1.  1.  1.]\n",
      " [ 1.  1.  1.]\n",
      " [ 1.  1.  1.]]\n"
     ]
    }
   ],
   "source": [
    "# broadcasting in both directions\n",
    "scalar = np.array([1])\n",
    "print(start+scalar)"
   ]
  },
  {
   "cell_type": "code",
   "execution_count": null,
   "metadata": {
    "collapsed": true
   },
   "outputs": [],
   "source": []
  }
 ],
 "metadata": {
  "kernelspec": {
   "display_name": "Python 3",
   "language": "python",
   "name": "python3"
  },
  "language_info": {
   "codemirror_mode": {
    "name": "ipython",
    "version": 3
   },
   "file_extension": ".py",
   "mimetype": "text/x-python",
   "name": "python",
   "nbconvert_exporter": "python",
   "pygments_lexer": "ipython3",
   "version": "3.6.1"
  }
 },
 "nbformat": 4,
 "nbformat_minor": 2
}
